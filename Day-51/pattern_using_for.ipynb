{
 "cells": [
  {
   "cell_type": "code",
   "execution_count": 10,
   "id": "a7099e8a",
   "metadata": {},
   "outputs": [
    {
     "name": "stdout",
     "output_type": "stream",
     "text": [
      "*       * \n",
      "* *   * * \n",
      "*   *   * \n",
      "*       * \n",
      "*       * \n"
     ]
    }
   ],
   "source": [
    "for i in range(1,6):\n",
    "    for j in range(1,6):\n",
    "        if j==1 or j==5 or (i==j and i<4) or (i==2 and j==4):\n",
    "            print(\"*\",end = \" \")\n",
    "        else:\n",
    "            print(\" \",end = \" \")\n",
    "    print()"
   ]
  },
  {
   "cell_type": "code",
   "execution_count": 15,
   "id": "a865fcc1",
   "metadata": {},
   "outputs": [
    {
     "name": "stdout",
     "output_type": "stream",
     "text": [
      "* * * * * \n",
      "*       * \n",
      "* * * * * \n",
      "*       * \n",
      "*       * \n"
     ]
    }
   ],
   "source": [
    "for i in range(1,6):\n",
    "    for j in range(1,6):\n",
    "        if j==1 or j==5 or i==1 or i==3:\n",
    "            print(\"*\",end = ' ')\n",
    "        else:\n",
    "            print(' ',end =' ')\n",
    "    print()\n",
    "    "
   ]
  },
  {
   "cell_type": "code",
   "execution_count": 26,
   "id": "3fb7db36",
   "metadata": {},
   "outputs": [
    {
     "name": "stdout",
     "output_type": "stream",
     "text": [
      "10\n",
      "* * * * * * * * * \n",
      "              *   \n",
      "            *     \n",
      "          *       \n",
      "        *         \n",
      "      *           \n",
      "    *             \n",
      "  *               \n",
      "* * * * * * * * * \n"
     ]
    }
   ],
   "source": [
    "n = int(input())\n",
    "for i in range(1,n):\n",
    "    for j in range(1,n):\n",
    "        if i==n-1 or i==1 or i+j==n:\n",
    "            print(\"*\",end = ' ')\n",
    "        else:\n",
    "            print(' ',end =' ')\n",
    "    print()\n",
    "    "
   ]
  },
  {
   "cell_type": "code",
   "execution_count": 24,
   "id": "49754860",
   "metadata": {},
   "outputs": [
    {
     "name": "stdout",
     "output_type": "stream",
     "text": [
      "* * * * * \n",
      "  *       \n",
      "    *     \n",
      "      *   \n",
      "* * * * * \n"
     ]
    }
   ],
   "source": [
    "for i in range(1,6):\n",
    "    for j in range(1,6):\n",
    "        if i==1 or i==5 or i==j:\n",
    "            print(\"*\",end = ' ')\n",
    "        else:\n",
    "            print(' ',end =' ')\n",
    "    print()\n",
    "    "
   ]
  },
  {
   "cell_type": "code",
   "execution_count": 46,
   "id": "8f824a31",
   "metadata": {},
   "outputs": [
    {
     "name": "stdout",
     "output_type": "stream",
     "text": [
      "*       * \n",
      "*       * \n",
      "*       * \n",
      "*       * \n",
      "  * * *   \n"
     ]
    }
   ],
   "source": [
    "for i in range(1,6):\n",
    "    for j in range(1,6):\n",
    "        if (j==1 and i<5) or (j==5 and i<5) or (i==5and(j>1 and j<5)):\n",
    "            print(\"*\",end = ' ')\n",
    "        else:\n",
    "            print(' ',end =' ')\n",
    "    print()\n",
    "    "
   ]
  },
  {
   "cell_type": "code",
   "execution_count": 50,
   "id": "d65d02b6",
   "metadata": {},
   "outputs": [
    {
     "name": "stdout",
     "output_type": "stream",
     "text": [
      "*     *   \n",
      "*   *     \n",
      "* *       \n",
      "*   *     \n",
      "*     *   \n"
     ]
    }
   ],
   "source": [
    "for i in range(1,6):\n",
    "    for j in range(1,6):\n",
    "        if j==1 or (i<4 and i+j==5)or (i-j==1):\n",
    "            print(\"*\",end = ' ')\n",
    "        else:\n",
    "            print(' ',end =' ')\n",
    "    print()\n",
    "    "
   ]
  },
  {
   "cell_type": "code",
   "execution_count": 60,
   "id": "29cd99f7",
   "metadata": {},
   "outputs": [
    {
     "name": "stdout",
     "output_type": "stream",
     "text": [
      "* * * *   \n",
      "*         \n",
      "*   * * * \n",
      "*     *   \n",
      "* * * *   \n"
     ]
    }
   ],
   "source": [
    "for i in range(1,6):\n",
    "    for j in range(1,6):\n",
    "        if (i ==1 and j<5) or (i==5 and j<5)or j==1 or (j==4 and i!=2) or i==3 and(j>2) and (j<6):\n",
    "            print(\"*\",end = ' ')\n",
    "        else:\n",
    "            print(' ',end =' ')\n",
    "    print()\n",
    "    "
   ]
  },
  {
   "cell_type": "code",
   "execution_count": 1,
   "id": "c08b1e9f",
   "metadata": {},
   "outputs": [
    {
     "name": "stdout",
     "output_type": "stream",
     "text": [
      "******\n",
      "*****\n",
      "****\n",
      "***\n",
      "**\n",
      "*\n"
     ]
    }
   ],
   "source": [
    "i=0\n",
    "while i<=5:\n",
    "    j=0\n",
    "    while j<=5:\n",
    "        if j<=5-i:\n",
    "            print(\"*\",end= \"\")\n",
    "        j+=1\n",
    "    print()\n",
    "    i+=1"
   ]
  },
  {
   "cell_type": "code",
   "execution_count": 2,
   "id": "71d6e6ef",
   "metadata": {},
   "outputs": [
    {
     "name": "stdout",
     "output_type": "stream",
     "text": [
      "A B C D E \n",
      "B C D E \n",
      "C D E \n",
      "D E \n",
      "E \n"
     ]
    }
   ],
   "source": [
    "rows = 5\n",
    "i = rows\n",
    "\n",
    "while i > 0:\n",
    "    j = 0\n",
    "    while j < i:\n",
    "        print(chr(65 + (rows - i) + j), end=\" \")\n",
    "        j += 1\n",
    "    print()\n",
    "    i -= 1\n"
   ]
  },
  {
   "cell_type": "code",
   "execution_count": 3,
   "id": "886a674e",
   "metadata": {},
   "outputs": [
    {
     "name": "stdout",
     "output_type": "stream",
     "text": [
      "    A \n",
      "   A B \n",
      "  A B C \n",
      " A B C D \n",
      "A B C D E \n"
     ]
    }
   ],
   "source": [
    "rows = 5\n",
    "for i in range(rows):\n",
    "    print(\" \" * (rows - i - 1), end=\"\")\n",
    "    for j in range(i+1):\n",
    "        print(chr(65 + j), end=\" \")\n",
    "    print()\n"
   ]
  },
  {
   "cell_type": "code",
   "execution_count": 4,
   "id": "066bd160",
   "metadata": {},
   "outputs": [
    {
     "name": "stdout",
     "output_type": "stream",
     "text": [
      "['e', 'd', 'c', 'b', 'a', 'b', 'c', 'd', 'e']\n",
      "________e________\n",
      "______e_d_e______\n",
      "____e_d_c_d_e____\n",
      "__e_d_c_b_c_d_e__\n",
      "e_d_c_b_a_b_c_d_e\n",
      "__e_d_c_b_c_d_e__\n",
      "____e_d_c_d_e____\n",
      "______e_d_e______\n",
      "________e________\n"
     ]
    }
   ],
   "source": [
    "n = 5\n",
    "l1 = list(map(chr,range(97,123)))\n",
    "x = l1[n-1::-1]+l1[1:n]\n",
    "print(x)\n",
    "m = len(\"_\".join(x))\n",
    "for i in range(1,n):\n",
    "    print(\"_\".join(l1[n-1:n-i:-1]+l1[n-i:n]).center(m,\"_\"))\n",
    "for i in range(n,0,-1):\n",
    "    print(\"_\".join(l1[n-1:n-i:-1]+l1[n-i:n]).center(m,\"_\"))"
   ]
  },
  {
   "cell_type": "code",
   "execution_count": 6,
   "id": "8bf213ed",
   "metadata": {},
   "outputs": [
    {
     "name": "stdout",
     "output_type": "stream",
     "text": [
      "*               *   \n",
      "*               *   \n",
      "*   *   *   *   *   \n",
      "*               *   \n",
      "*               *   \n"
     ]
    }
   ],
   "source": [
    "for i in range(1,6):\n",
    "    for j in range(1,6):\n",
    "        if j == 1 or j==5 or i==3:\n",
    "            print(\"*\",end = \" \")\n",
    "        else:\n",
    "            print(\" \",end = ' ')\n",
    "\n",
    "        print(\" \",end = ' ')\n",
    "    print()"
   ]
  }
 ],
 "metadata": {
  "kernelspec": {
   "display_name": "Python 3 (ipykernel)",
   "language": "python",
   "name": "python3"
  },
  "language_info": {
   "codemirror_mode": {
    "name": "ipython",
    "version": 3
   },
   "file_extension": ".py",
   "mimetype": "text/x-python",
   "name": "python",
   "nbconvert_exporter": "python",
   "pygments_lexer": "ipython3",
   "version": "3.9.13"
  }
 },
 "nbformat": 4,
 "nbformat_minor": 5
}
